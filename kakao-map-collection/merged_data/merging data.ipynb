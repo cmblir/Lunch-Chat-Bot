{
 "cells": [
  {
   "cell_type": "code",
   "execution_count": 3,
   "metadata": {},
   "outputs": [],
   "source": [
    "import pandas as pd\n",
    "import os"
   ]
  },
  {
   "cell_type": "code",
   "execution_count": 4,
   "metadata": {},
   "outputs": [],
   "source": [
    "Path = 'map_list/'\n",
    "FilePath = os.listdir(Path)"
   ]
  },
  {
   "cell_type": "code",
   "execution_count": 12,
   "metadata": {},
   "outputs": [],
   "source": [
    "MergedDF = pd.DataFrame(columns = (\"맛집명\", \"주소\", \"영업시간\", \"전화번호\", \"대표사진주소\", \"종류\", \"리뷰평점\"))"
   ]
  },
  {
   "cell_type": "code",
   "execution_count": 17,
   "metadata": {},
   "outputs": [
    {
     "name": "stderr",
     "output_type": "stream",
     "text": [
      "/var/folders/5v/6byb3xz548v1xd0b83z24ys40000gn/T/ipykernel_10661/2032850520.py:9: FutureWarning: The frame.append method is deprecated and will be removed from pandas in a future version. Use pandas.concat instead.\n",
      "  MergedDF = MergedDF.append(df)\n",
      "/var/folders/5v/6byb3xz548v1xd0b83z24ys40000gn/T/ipykernel_10661/2032850520.py:9: FutureWarning: The frame.append method is deprecated and will be removed from pandas in a future version. Use pandas.concat instead.\n",
      "  MergedDF = MergedDF.append(df)\n",
      "/var/folders/5v/6byb3xz548v1xd0b83z24ys40000gn/T/ipykernel_10661/2032850520.py:9: FutureWarning: The frame.append method is deprecated and will be removed from pandas in a future version. Use pandas.concat instead.\n",
      "  MergedDF = MergedDF.append(df)\n",
      "/var/folders/5v/6byb3xz548v1xd0b83z24ys40000gn/T/ipykernel_10661/2032850520.py:9: FutureWarning: The frame.append method is deprecated and will be removed from pandas in a future version. Use pandas.concat instead.\n",
      "  MergedDF = MergedDF.append(df)\n",
      "/var/folders/5v/6byb3xz548v1xd0b83z24ys40000gn/T/ipykernel_10661/2032850520.py:9: FutureWarning: The frame.append method is deprecated and will be removed from pandas in a future version. Use pandas.concat instead.\n",
      "  MergedDF = MergedDF.append(df)\n",
      "/var/folders/5v/6byb3xz548v1xd0b83z24ys40000gn/T/ipykernel_10661/2032850520.py:9: FutureWarning: The frame.append method is deprecated and will be removed from pandas in a future version. Use pandas.concat instead.\n",
      "  MergedDF = MergedDF.append(df)\n",
      "/var/folders/5v/6byb3xz548v1xd0b83z24ys40000gn/T/ipykernel_10661/2032850520.py:9: FutureWarning: The frame.append method is deprecated and will be removed from pandas in a future version. Use pandas.concat instead.\n",
      "  MergedDF = MergedDF.append(df)\n",
      "/var/folders/5v/6byb3xz548v1xd0b83z24ys40000gn/T/ipykernel_10661/2032850520.py:9: FutureWarning: The frame.append method is deprecated and will be removed from pandas in a future version. Use pandas.concat instead.\n",
      "  MergedDF = MergedDF.append(df)\n",
      "/var/folders/5v/6byb3xz548v1xd0b83z24ys40000gn/T/ipykernel_10661/2032850520.py:9: FutureWarning: The frame.append method is deprecated and will be removed from pandas in a future version. Use pandas.concat instead.\n",
      "  MergedDF = MergedDF.append(df)\n",
      "/var/folders/5v/6byb3xz548v1xd0b83z24ys40000gn/T/ipykernel_10661/2032850520.py:9: FutureWarning: The frame.append method is deprecated and will be removed from pandas in a future version. Use pandas.concat instead.\n",
      "  MergedDF = MergedDF.append(df)\n",
      "/var/folders/5v/6byb3xz548v1xd0b83z24ys40000gn/T/ipykernel_10661/2032850520.py:9: FutureWarning: The frame.append method is deprecated and will be removed from pandas in a future version. Use pandas.concat instead.\n",
      "  MergedDF = MergedDF.append(df)\n",
      "/var/folders/5v/6byb3xz548v1xd0b83z24ys40000gn/T/ipykernel_10661/2032850520.py:9: FutureWarning: The frame.append method is deprecated and will be removed from pandas in a future version. Use pandas.concat instead.\n",
      "  MergedDF = MergedDF.append(df)\n",
      "/var/folders/5v/6byb3xz548v1xd0b83z24ys40000gn/T/ipykernel_10661/2032850520.py:9: FutureWarning: The frame.append method is deprecated and will be removed from pandas in a future version. Use pandas.concat instead.\n",
      "  MergedDF = MergedDF.append(df)\n",
      "/var/folders/5v/6byb3xz548v1xd0b83z24ys40000gn/T/ipykernel_10661/2032850520.py:9: FutureWarning: The frame.append method is deprecated and will be removed from pandas in a future version. Use pandas.concat instead.\n",
      "  MergedDF = MergedDF.append(df)\n",
      "/var/folders/5v/6byb3xz548v1xd0b83z24ys40000gn/T/ipykernel_10661/2032850520.py:9: FutureWarning: The frame.append method is deprecated and will be removed from pandas in a future version. Use pandas.concat instead.\n",
      "  MergedDF = MergedDF.append(df)\n",
      "/var/folders/5v/6byb3xz548v1xd0b83z24ys40000gn/T/ipykernel_10661/2032850520.py:9: FutureWarning: The frame.append method is deprecated and will be removed from pandas in a future version. Use pandas.concat instead.\n",
      "  MergedDF = MergedDF.append(df)\n",
      "/var/folders/5v/6byb3xz548v1xd0b83z24ys40000gn/T/ipykernel_10661/2032850520.py:9: FutureWarning: The frame.append method is deprecated and will be removed from pandas in a future version. Use pandas.concat instead.\n",
      "  MergedDF = MergedDF.append(df)\n",
      "/var/folders/5v/6byb3xz548v1xd0b83z24ys40000gn/T/ipykernel_10661/2032850520.py:9: FutureWarning: The frame.append method is deprecated and will be removed from pandas in a future version. Use pandas.concat instead.\n",
      "  MergedDF = MergedDF.append(df)\n",
      "/var/folders/5v/6byb3xz548v1xd0b83z24ys40000gn/T/ipykernel_10661/2032850520.py:9: FutureWarning: The frame.append method is deprecated and will be removed from pandas in a future version. Use pandas.concat instead.\n",
      "  MergedDF = MergedDF.append(df)\n",
      "/var/folders/5v/6byb3xz548v1xd0b83z24ys40000gn/T/ipykernel_10661/2032850520.py:9: FutureWarning: The frame.append method is deprecated and will be removed from pandas in a future version. Use pandas.concat instead.\n",
      "  MergedDF = MergedDF.append(df)\n",
      "/var/folders/5v/6byb3xz548v1xd0b83z24ys40000gn/T/ipykernel_10661/2032850520.py:9: FutureWarning: The frame.append method is deprecated and will be removed from pandas in a future version. Use pandas.concat instead.\n",
      "  MergedDF = MergedDF.append(df)\n",
      "/var/folders/5v/6byb3xz548v1xd0b83z24ys40000gn/T/ipykernel_10661/2032850520.py:9: FutureWarning: The frame.append method is deprecated and will be removed from pandas in a future version. Use pandas.concat instead.\n",
      "  MergedDF = MergedDF.append(df)\n",
      "/var/folders/5v/6byb3xz548v1xd0b83z24ys40000gn/T/ipykernel_10661/2032850520.py:9: FutureWarning: The frame.append method is deprecated and will be removed from pandas in a future version. Use pandas.concat instead.\n",
      "  MergedDF = MergedDF.append(df)\n",
      "/var/folders/5v/6byb3xz548v1xd0b83z24ys40000gn/T/ipykernel_10661/2032850520.py:9: FutureWarning: The frame.append method is deprecated and will be removed from pandas in a future version. Use pandas.concat instead.\n",
      "  MergedDF = MergedDF.append(df)\n",
      "/var/folders/5v/6byb3xz548v1xd0b83z24ys40000gn/T/ipykernel_10661/2032850520.py:9: FutureWarning: The frame.append method is deprecated and will be removed from pandas in a future version. Use pandas.concat instead.\n",
      "  MergedDF = MergedDF.append(df)\n",
      "/var/folders/5v/6byb3xz548v1xd0b83z24ys40000gn/T/ipykernel_10661/2032850520.py:9: FutureWarning: The frame.append method is deprecated and will be removed from pandas in a future version. Use pandas.concat instead.\n",
      "  MergedDF = MergedDF.append(df)\n",
      "/var/folders/5v/6byb3xz548v1xd0b83z24ys40000gn/T/ipykernel_10661/2032850520.py:9: FutureWarning: The frame.append method is deprecated and will be removed from pandas in a future version. Use pandas.concat instead.\n",
      "  MergedDF = MergedDF.append(df)\n",
      "/var/folders/5v/6byb3xz548v1xd0b83z24ys40000gn/T/ipykernel_10661/2032850520.py:9: FutureWarning: The frame.append method is deprecated and will be removed from pandas in a future version. Use pandas.concat instead.\n",
      "  MergedDF = MergedDF.append(df)\n",
      "/var/folders/5v/6byb3xz548v1xd0b83z24ys40000gn/T/ipykernel_10661/2032850520.py:9: FutureWarning: The frame.append method is deprecated and will be removed from pandas in a future version. Use pandas.concat instead.\n",
      "  MergedDF = MergedDF.append(df)\n",
      "/var/folders/5v/6byb3xz548v1xd0b83z24ys40000gn/T/ipykernel_10661/2032850520.py:9: FutureWarning: The frame.append method is deprecated and will be removed from pandas in a future version. Use pandas.concat instead.\n",
      "  MergedDF = MergedDF.append(df)\n",
      "/var/folders/5v/6byb3xz548v1xd0b83z24ys40000gn/T/ipykernel_10661/2032850520.py:9: FutureWarning: The frame.append method is deprecated and will be removed from pandas in a future version. Use pandas.concat instead.\n",
      "  MergedDF = MergedDF.append(df)\n",
      "/var/folders/5v/6byb3xz548v1xd0b83z24ys40000gn/T/ipykernel_10661/2032850520.py:9: FutureWarning: The frame.append method is deprecated and will be removed from pandas in a future version. Use pandas.concat instead.\n",
      "  MergedDF = MergedDF.append(df)\n",
      "/var/folders/5v/6byb3xz548v1xd0b83z24ys40000gn/T/ipykernel_10661/2032850520.py:9: FutureWarning: The frame.append method is deprecated and will be removed from pandas in a future version. Use pandas.concat instead.\n",
      "  MergedDF = MergedDF.append(df)\n",
      "/var/folders/5v/6byb3xz548v1xd0b83z24ys40000gn/T/ipykernel_10661/2032850520.py:9: FutureWarning: The frame.append method is deprecated and will be removed from pandas in a future version. Use pandas.concat instead.\n",
      "  MergedDF = MergedDF.append(df)\n",
      "/var/folders/5v/6byb3xz548v1xd0b83z24ys40000gn/T/ipykernel_10661/2032850520.py:9: FutureWarning: The frame.append method is deprecated and will be removed from pandas in a future version. Use pandas.concat instead.\n",
      "  MergedDF = MergedDF.append(df)\n",
      "/var/folders/5v/6byb3xz548v1xd0b83z24ys40000gn/T/ipykernel_10661/2032850520.py:9: FutureWarning: The frame.append method is deprecated and will be removed from pandas in a future version. Use pandas.concat instead.\n",
      "  MergedDF = MergedDF.append(df)\n",
      "/var/folders/5v/6byb3xz548v1xd0b83z24ys40000gn/T/ipykernel_10661/2032850520.py:9: FutureWarning: The frame.append method is deprecated and will be removed from pandas in a future version. Use pandas.concat instead.\n",
      "  MergedDF = MergedDF.append(df)\n",
      "/var/folders/5v/6byb3xz548v1xd0b83z24ys40000gn/T/ipykernel_10661/2032850520.py:9: FutureWarning: The frame.append method is deprecated and will be removed from pandas in a future version. Use pandas.concat instead.\n",
      "  MergedDF = MergedDF.append(df)\n",
      "/var/folders/5v/6byb3xz548v1xd0b83z24ys40000gn/T/ipykernel_10661/2032850520.py:9: FutureWarning: The frame.append method is deprecated and will be removed from pandas in a future version. Use pandas.concat instead.\n",
      "  MergedDF = MergedDF.append(df)\n",
      "/var/folders/5v/6byb3xz548v1xd0b83z24ys40000gn/T/ipykernel_10661/2032850520.py:9: FutureWarning: The frame.append method is deprecated and will be removed from pandas in a future version. Use pandas.concat instead.\n",
      "  MergedDF = MergedDF.append(df)\n",
      "/var/folders/5v/6byb3xz548v1xd0b83z24ys40000gn/T/ipykernel_10661/2032850520.py:9: FutureWarning: The frame.append method is deprecated and will be removed from pandas in a future version. Use pandas.concat instead.\n",
      "  MergedDF = MergedDF.append(df)\n",
      "/var/folders/5v/6byb3xz548v1xd0b83z24ys40000gn/T/ipykernel_10661/2032850520.py:9: FutureWarning: The frame.append method is deprecated and will be removed from pandas in a future version. Use pandas.concat instead.\n",
      "  MergedDF = MergedDF.append(df)\n",
      "/var/folders/5v/6byb3xz548v1xd0b83z24ys40000gn/T/ipykernel_10661/2032850520.py:9: FutureWarning: The frame.append method is deprecated and will be removed from pandas in a future version. Use pandas.concat instead.\n",
      "  MergedDF = MergedDF.append(df)\n",
      "/var/folders/5v/6byb3xz548v1xd0b83z24ys40000gn/T/ipykernel_10661/2032850520.py:9: FutureWarning: The frame.append method is deprecated and will be removed from pandas in a future version. Use pandas.concat instead.\n",
      "  MergedDF = MergedDF.append(df)\n",
      "/var/folders/5v/6byb3xz548v1xd0b83z24ys40000gn/T/ipykernel_10661/2032850520.py:9: FutureWarning: The frame.append method is deprecated and will be removed from pandas in a future version. Use pandas.concat instead.\n",
      "  MergedDF = MergedDF.append(df)\n",
      "/var/folders/5v/6byb3xz548v1xd0b83z24ys40000gn/T/ipykernel_10661/2032850520.py:9: FutureWarning: The frame.append method is deprecated and will be removed from pandas in a future version. Use pandas.concat instead.\n",
      "  MergedDF = MergedDF.append(df)\n",
      "/var/folders/5v/6byb3xz548v1xd0b83z24ys40000gn/T/ipykernel_10661/2032850520.py:9: FutureWarning: The frame.append method is deprecated and will be removed from pandas in a future version. Use pandas.concat instead.\n",
      "  MergedDF = MergedDF.append(df)\n",
      "/var/folders/5v/6byb3xz548v1xd0b83z24ys40000gn/T/ipykernel_10661/2032850520.py:9: FutureWarning: The frame.append method is deprecated and will be removed from pandas in a future version. Use pandas.concat instead.\n",
      "  MergedDF = MergedDF.append(df)\n",
      "/var/folders/5v/6byb3xz548v1xd0b83z24ys40000gn/T/ipykernel_10661/2032850520.py:9: FutureWarning: The frame.append method is deprecated and will be removed from pandas in a future version. Use pandas.concat instead.\n",
      "  MergedDF = MergedDF.append(df)\n",
      "/var/folders/5v/6byb3xz548v1xd0b83z24ys40000gn/T/ipykernel_10661/2032850520.py:9: FutureWarning: The frame.append method is deprecated and will be removed from pandas in a future version. Use pandas.concat instead.\n",
      "  MergedDF = MergedDF.append(df)\n"
     ]
    }
   ],
   "source": [
    "for File in FilePath:\n",
    "    FileType = File.split(\"_\")[1].split(\".\")[0]\n",
    "    df = pd.read_csv(Path + File, sep = \"|\")\n",
    "    if int(FileType) >= 100:\n",
    "        Type = \"cafe\"\n",
    "    else:\n",
    "        Type = \"Restaurant\"\n",
    "    df[\"종류\"] = Type\n",
    "    MergedDF = MergedDF.append(df)"
   ]
  },
  {
   "cell_type": "code",
   "execution_count": 20,
   "metadata": {},
   "outputs": [],
   "source": [
    "MergedDF.to_excel(\"Merged_DF.xlsx\", index=False)"
   ]
  },
  {
   "cell_type": "code",
   "execution_count": null,
   "metadata": {},
   "outputs": [],
   "source": []
  }
 ],
 "metadata": {
  "kernelspec": {
   "display_name": "Python 3",
   "language": "python",
   "name": "python3"
  },
  "language_info": {
   "codemirror_mode": {
    "name": "ipython",
    "version": 3
   },
   "file_extension": ".py",
   "mimetype": "text/x-python",
   "name": "python",
   "nbconvert_exporter": "python",
   "pygments_lexer": "ipython3",
   "version": "3.10.8 (main, Nov 24 2022, 08:08:27) [Clang 14.0.6 ]"
  },
  "orig_nbformat": 4,
  "vscode": {
   "interpreter": {
    "hash": "1484c60fc21e8b44054b80e719575bad7498efd5d396525e6a44287218f58e21"
   }
  }
 },
 "nbformat": 4,
 "nbformat_minor": 2
}
