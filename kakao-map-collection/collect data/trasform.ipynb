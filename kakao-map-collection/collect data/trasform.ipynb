{
 "cells": [
  {
   "cell_type": "code",
   "execution_count": 1,
   "metadata": {},
   "outputs": [],
   "source": [
    "import pandas as pd\n",
    "import os"
   ]
  },
  {
   "cell_type": "code",
   "execution_count": 37,
   "metadata": {},
   "outputs": [],
   "source": [
    "path = \"/Users/cmblir/Python/Lunch-Chat-Bot/kakao-map-collection/collect data/transfrom data/\"\n",
    "filepath = os.listdir(path)"
   ]
  },
  {
   "cell_type": "code",
   "execution_count": 47,
   "metadata": {},
   "outputs": [],
   "source": [
    "df = pd.read_csv(path + \"강남구.csv\", sep=\"|\")"
   ]
  },
  {
   "cell_type": "code",
   "execution_count": 40,
   "metadata": {},
   "outputs": [],
   "source": [
    "default_df = pd.DataFrame(columns = list(df.columns))"
   ]
  },
  {
   "cell_type": "code",
   "execution_count": 41,
   "metadata": {},
   "outputs": [
    {
     "name": "stderr",
     "output_type": "stream",
     "text": [
      "/var/folders/5v/6byb3xz548v1xd0b83z24ys40000gn/T/ipykernel_11839/3693255687.py:8: FutureWarning: The frame.append method is deprecated and will be removed from pandas in a future version. Use pandas.concat instead.\n",
      "  default_df = default_df.append(df)\n",
      "/var/folders/5v/6byb3xz548v1xd0b83z24ys40000gn/T/ipykernel_11839/3693255687.py:8: FutureWarning: The frame.append method is deprecated and will be removed from pandas in a future version. Use pandas.concat instead.\n",
      "  default_df = default_df.append(df)\n",
      "/var/folders/5v/6byb3xz548v1xd0b83z24ys40000gn/T/ipykernel_11839/3693255687.py:8: FutureWarning: The frame.append method is deprecated and will be removed from pandas in a future version. Use pandas.concat instead.\n",
      "  default_df = default_df.append(df)\n",
      "/var/folders/5v/6byb3xz548v1xd0b83z24ys40000gn/T/ipykernel_11839/3693255687.py:8: FutureWarning: The frame.append method is deprecated and will be removed from pandas in a future version. Use pandas.concat instead.\n",
      "  default_df = default_df.append(df)\n",
      "/var/folders/5v/6byb3xz548v1xd0b83z24ys40000gn/T/ipykernel_11839/3693255687.py:8: FutureWarning: The frame.append method is deprecated and will be removed from pandas in a future version. Use pandas.concat instead.\n",
      "  default_df = default_df.append(df)\n",
      "/var/folders/5v/6byb3xz548v1xd0b83z24ys40000gn/T/ipykernel_11839/3693255687.py:8: FutureWarning: The frame.append method is deprecated and will be removed from pandas in a future version. Use pandas.concat instead.\n",
      "  default_df = default_df.append(df)\n",
      "/var/folders/5v/6byb3xz548v1xd0b83z24ys40000gn/T/ipykernel_11839/3693255687.py:8: FutureWarning: The frame.append method is deprecated and will be removed from pandas in a future version. Use pandas.concat instead.\n",
      "  default_df = default_df.append(df)\n",
      "/var/folders/5v/6byb3xz548v1xd0b83z24ys40000gn/T/ipykernel_11839/3693255687.py:8: FutureWarning: The frame.append method is deprecated and will be removed from pandas in a future version. Use pandas.concat instead.\n",
      "  default_df = default_df.append(df)\n",
      "/var/folders/5v/6byb3xz548v1xd0b83z24ys40000gn/T/ipykernel_11839/3693255687.py:8: FutureWarning: The frame.append method is deprecated and will be removed from pandas in a future version. Use pandas.concat instead.\n",
      "  default_df = default_df.append(df)\n",
      "/var/folders/5v/6byb3xz548v1xd0b83z24ys40000gn/T/ipykernel_11839/3693255687.py:8: FutureWarning: The frame.append method is deprecated and will be removed from pandas in a future version. Use pandas.concat instead.\n",
      "  default_df = default_df.append(df)\n",
      "/var/folders/5v/6byb3xz548v1xd0b83z24ys40000gn/T/ipykernel_11839/3693255687.py:8: FutureWarning: The frame.append method is deprecated and will be removed from pandas in a future version. Use pandas.concat instead.\n",
      "  default_df = default_df.append(df)\n",
      "/var/folders/5v/6byb3xz548v1xd0b83z24ys40000gn/T/ipykernel_11839/3693255687.py:8: FutureWarning: The frame.append method is deprecated and will be removed from pandas in a future version. Use pandas.concat instead.\n",
      "  default_df = default_df.append(df)\n",
      "/var/folders/5v/6byb3xz548v1xd0b83z24ys40000gn/T/ipykernel_11839/3693255687.py:8: FutureWarning: The frame.append method is deprecated and will be removed from pandas in a future version. Use pandas.concat instead.\n",
      "  default_df = default_df.append(df)\n",
      "/var/folders/5v/6byb3xz548v1xd0b83z24ys40000gn/T/ipykernel_11839/3693255687.py:8: FutureWarning: The frame.append method is deprecated and will be removed from pandas in a future version. Use pandas.concat instead.\n",
      "  default_df = default_df.append(df)\n",
      "/var/folders/5v/6byb3xz548v1xd0b83z24ys40000gn/T/ipykernel_11839/3693255687.py:8: FutureWarning: The frame.append method is deprecated and will be removed from pandas in a future version. Use pandas.concat instead.\n",
      "  default_df = default_df.append(df)\n",
      "/var/folders/5v/6byb3xz548v1xd0b83z24ys40000gn/T/ipykernel_11839/3693255687.py:8: FutureWarning: The frame.append method is deprecated and will be removed from pandas in a future version. Use pandas.concat instead.\n",
      "  default_df = default_df.append(df)\n",
      "/var/folders/5v/6byb3xz548v1xd0b83z24ys40000gn/T/ipykernel_11839/3693255687.py:8: FutureWarning: The frame.append method is deprecated and will be removed from pandas in a future version. Use pandas.concat instead.\n",
      "  default_df = default_df.append(df)\n",
      "/var/folders/5v/6byb3xz548v1xd0b83z24ys40000gn/T/ipykernel_11839/3693255687.py:8: FutureWarning: The frame.append method is deprecated and will be removed from pandas in a future version. Use pandas.concat instead.\n",
      "  default_df = default_df.append(df)\n",
      "/var/folders/5v/6byb3xz548v1xd0b83z24ys40000gn/T/ipykernel_11839/3693255687.py:8: FutureWarning: The frame.append method is deprecated and will be removed from pandas in a future version. Use pandas.concat instead.\n",
      "  default_df = default_df.append(df)\n",
      "/var/folders/5v/6byb3xz548v1xd0b83z24ys40000gn/T/ipykernel_11839/3693255687.py:8: FutureWarning: The frame.append method is deprecated and will be removed from pandas in a future version. Use pandas.concat instead.\n",
      "  default_df = default_df.append(df)\n",
      "/var/folders/5v/6byb3xz548v1xd0b83z24ys40000gn/T/ipykernel_11839/3693255687.py:8: FutureWarning: The frame.append method is deprecated and will be removed from pandas in a future version. Use pandas.concat instead.\n",
      "  default_df = default_df.append(df)\n",
      "/var/folders/5v/6byb3xz548v1xd0b83z24ys40000gn/T/ipykernel_11839/3693255687.py:8: FutureWarning: The frame.append method is deprecated and will be removed from pandas in a future version. Use pandas.concat instead.\n",
      "  default_df = default_df.append(df)\n",
      "/var/folders/5v/6byb3xz548v1xd0b83z24ys40000gn/T/ipykernel_11839/3693255687.py:8: FutureWarning: The frame.append method is deprecated and will be removed from pandas in a future version. Use pandas.concat instead.\n",
      "  default_df = default_df.append(df)\n",
      "/var/folders/5v/6byb3xz548v1xd0b83z24ys40000gn/T/ipykernel_11839/3693255687.py:8: FutureWarning: The frame.append method is deprecated and will be removed from pandas in a future version. Use pandas.concat instead.\n",
      "  default_df = default_df.append(df)\n",
      "/var/folders/5v/6byb3xz548v1xd0b83z24ys40000gn/T/ipykernel_11839/3693255687.py:8: FutureWarning: The frame.append method is deprecated and will be removed from pandas in a future version. Use pandas.concat instead.\n",
      "  default_df = default_df.append(df)\n"
     ]
    }
   ],
   "source": [
    "for file in filepath:\n",
    "    try:\n",
    "        df = pd.read_csv(path + file, sep = \"|\")\n",
    "    except UnicodeDecodeError:\n",
    "        print(file)\n",
    "        df = pd.read_csv(path + file, sep = \"|\", encoding=\"cp949\")\n",
    "    df = df.drop([\"Unnamed: 7\"], axis=\"columns\")\n",
    "    default_df = default_df.append(df)"
   ]
  },
  {
   "cell_type": "code",
   "execution_count": 46,
   "metadata": {},
   "outputs": [
    {
     "data": {
      "text/plain": [
       "False    11712\n",
       "True       297\n",
       "Name: 맛집명, dtype: int64"
      ]
     },
     "execution_count": 46,
     "metadata": {},
     "output_type": "execute_result"
    }
   ],
   "source": [
    "default_df[\"맛집명\"].duplicated().value_counts()"
   ]
  },
  {
   "cell_type": "code",
   "execution_count": null,
   "metadata": {},
   "outputs": [],
   "source": []
  }
 ],
 "metadata": {
  "kernelspec": {
   "display_name": "Python 3",
   "language": "python",
   "name": "python3"
  },
  "language_info": {
   "codemirror_mode": {
    "name": "ipython",
    "version": 3
   },
   "file_extension": ".py",
   "mimetype": "text/x-python",
   "name": "python",
   "nbconvert_exporter": "python",
   "pygments_lexer": "ipython3",
   "version": "3.10.8"
  },
  "orig_nbformat": 4,
  "vscode": {
   "interpreter": {
    "hash": "1484c60fc21e8b44054b80e719575bad7498efd5d396525e6a44287218f58e21"
   }
  }
 },
 "nbformat": 4,
 "nbformat_minor": 2
}
