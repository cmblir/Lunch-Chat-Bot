{
 "cells": [
  {
   "cell_type": "code",
   "execution_count": 1,
   "metadata": {},
   "outputs": [],
   "source": [
    "import pandas as pd\n",
    "import warnings\n",
    "import os\n",
    "warnings.simplefilter(action='ignore', category=FutureWarning)\n",
    "pd.set_option(\"mode.chained_assignment\", None)"
   ]
  },
  {
   "cell_type": "code",
   "execution_count": 80,
   "metadata": {},
   "outputs": [],
   "source": [
    "path = \"transfrom data/\"\n",
    "filepath = os.listdir(path)"
   ]
  },
  {
   "cell_type": "code",
   "execution_count": 84,
   "metadata": {},
   "outputs": [],
   "source": [
    "df = pd.read_csv(path + \"강남구.csv\", sep=\"|\")"
   ]
  },
  {
   "cell_type": "code",
   "execution_count": 97,
   "metadata": {},
   "outputs": [],
   "source": [
    "default_df = pd.DataFrame(columns = list(df.columns))"
   ]
  },
  {
   "cell_type": "code",
   "execution_count": 98,
   "metadata": {},
   "outputs": [],
   "source": [
    "for file in filepath:\n",
    "    try:\n",
    "        df = pd.read_csv(path + file, sep = \"|\")\n",
    "    except UnicodeDecodeError:\n",
    "        df = pd.read_csv(path + file, sep = \"|\", encoding=\"cp949\")\n",
    "    df = df.drop([\"Unnamed: 7\"], axis=\"columns\")\n",
    "    default_df = default_df.append(df)"
   ]
  },
  {
   "cell_type": "code",
   "execution_count": 99,
   "metadata": {},
   "outputs": [],
   "source": [
    "default_df = default_df.drop_duplicates([\"맛집명\"], keep = \"first\")"
   ]
  },
  {
   "cell_type": "code",
   "execution_count": 104,
   "metadata": {},
   "outputs": [],
   "source": [
    "default_df.to_excel(path + \"Merged.xlsx\", index=False)"
   ]
  },
  {
   "cell_type": "code",
   "execution_count": 101,
   "metadata": {},
   "outputs": [
    {
     "data": {
      "text/plain": [
       "매일 00:00 ~ 24:00                                     366\n",
       "영업시간 매일 11:00 ~ 22:00                                269\n",
       "매일 11:00 ~ 22:00                                     263\n",
       "매일 11:30 ~ 22:00                                     171\n",
       "영업시간 매일 11:30 ~ 22:00                                144\n",
       "                                                    ... \n",
       "영업시간 금,토 16:00 ~ 07:00                                 1\n",
       "월~토 06:00 ~ 19:00                                      1\n",
       "영업시간 월~토 11:30 ~ 24:00 · 브레이크타임 월~토 15:00 ~ 17:30      1\n",
       "영업시간 월,수,목,금,토,일 14:00 ~ 01:00                         1\n",
       "금~일 12:00 ~ 24:00                                      1\n",
       "Name: 영업시간, Length: 3003, dtype: int64"
      ]
     },
     "execution_count": 101,
     "metadata": {},
     "output_type": "execute_result"
    }
   ],
   "source": [
    "default_df[\"영업시간\"].value_counts()"
   ]
  },
  {
   "cell_type": "code",
   "execution_count": 180,
   "metadata": {},
   "outputs": [],
   "source": [
    "df = pd.read_excel(path + \"Merged.xlsx\")"
   ]
  },
  {
   "cell_type": "code",
   "execution_count": 181,
   "metadata": {},
   "outputs": [],
   "source": [
    "for i in range(len(df)):\n",
    "    text = df[\"영업시간\"][i]\n",
    "    try:\n",
    "        if \"영업시간\" in text:\n",
    "            df[\"영업시간\"][i] = text.replace(\"영업시간\", \"\")\n",
    "    except: pass"
   ]
  },
  {
   "cell_type": "code",
   "execution_count": 84,
   "metadata": {},
   "outputs": [],
   "source": [
    "import re\n",
    "from tqdm import tqdm"
   ]
  },
  {
   "cell_type": "code",
   "execution_count": 191,
   "metadata": {},
   "outputs": [
    {
     "name": "stderr",
     "output_type": "stream",
     "text": [
      "100%|██████████| 11712/11712 [00:03<00:00, 3272.57it/s]\n"
     ]
    }
   ],
   "source": [
    "df[\"영업일\"] = \"\"\n",
    "df[\"영업 시작시간\"] = \"\"\n",
    "df[\"영업 종료시간\"] = \"\"\n",
    "days = [\"월\", \"화\", \"수\", \"목\", \"금\", \"토\", \"일\"]\n",
    "time_pattern = re.compile(\"\\d{2}:\\d{2} ~ \\d{2}:\\d{2}$\")\n",
    "for length in tqdm(range(len(df))):\n",
    "    check_day = df[\"영업시간\"][length]\n",
    "    check_day = re.sub(r\"[^가-힣]\", \"\", str(check_day))\n",
    "    open_days = []\n",
    "    if \"매일\" in check_day:\n",
    "        df[\"영업일\"][length] = \"매일\"\n",
    "    else:\n",
    "        for day in days:\n",
    "            if day in check_day:\n",
    "                open_days.append(day)\n",
    "        if \"\".join(open_days) == \"월화수목금토일\":\n",
    "            df[\"영업일\"][length] = \"매일\"\n",
    "        else:\n",
    "            df[\"영업일\"][length] = \",\".join(open_days)\n",
    "    try:\n",
    "        only_time = time_pattern.findall(df[\"영업시간\"][length])[0]\n",
    "        df[\"영업 시작시간\"][length] = only_time.split()[0]\n",
    "        df[\"영업 종료시간\"][length] = only_time.split()[2]\n",
    "    except:\n",
    "        df[\"영업 시작시간\"][length] = \"\"\n",
    "        df[\"영업 종료시간\"][length] = \"\""
   ]
  },
  {
   "cell_type": "code",
   "execution_count": 192,
   "metadata": {},
   "outputs": [],
   "source": [
    "df.to_excel(\"load data/Splited_data.xlsx\", index=False)"
   ]
  },
  {
   "cell_type": "code",
   "execution_count": 184,
   "metadata": {},
   "outputs": [
    {
     "data": {
      "text/plain": [
       "'\\nfor length in tqdm(range(len(df))):\\n    check_word = str(df[\"영업일\"][length])\\n    if \",\" in check_word:\\n        only_day = check_word.split(\",\")\\n        day_append_lst = []\\n        for except_day in only_day:\\n            if len(except_day) > 2: # \"매일\"이 2글자이므로\\n                try:\\n                    remove_number_check = re.compile(\"\\\\d{2}:\\\\d{2}$\")\\n                    remove_number = remove_number_check.findall(except_day)[0]\\n                    except_day = except_day.replace(remove_number, \"\")\\n                except: pass\\n                if len(except_day) > 2:\\n                    day_append_lst.append(\"\")\\n                else:\\n                    day_append_lst.append(except_day)\\n            else:\\n                day_append_lst.append(except_day)\\n\\n    elif \"~\" in check_word:\\n        only_day = check_word.split(\"~\")\\n        day_append_lst = []\\n        for except_day in only_day:\\n            if len(except_day) > 2: # \"매일\"이 2글자이므로\\n                try:\\n                    remove_number_check = re.compile(\"\\\\d{2}:\\\\d{2}$\")\\n                    remove_number = remove_number_check.findall(except_day)[0]\\n                    except_day = except_day.replace(remove_number, \"\")\\n                except: pass\\n                if len(except_day) > 2:\\n                    day_append_lst.append(\"\")\\n                else:\\n                    day_append_lst.append(except_day)\\n            else:\\n                day_append_lst.append(except_day)\\n        df[\"영업일\"][length] = \",\".join(day_append_lst)\\n'"
      ]
     },
     "execution_count": 184,
     "metadata": {},
     "output_type": "execute_result"
    }
   ],
   "source": [
    "\"\"\"\n",
    "for length in tqdm(range(len(df))):\n",
    "    check_word = str(df[\"영업일\"][length])\n",
    "    if \",\" in check_word:\n",
    "        only_day = check_word.split(\",\")\n",
    "        day_append_lst = []\n",
    "        for except_day in only_day:\n",
    "            if len(except_day) > 2: # \"매일\"이 2글자이므로\n",
    "                try:\n",
    "                    remove_number_check = re.compile(\"\\d{2}:\\d{2}$\")\n",
    "                    remove_number = remove_number_check.findall(except_day)[0]\n",
    "                    except_day = except_day.replace(remove_number, \"\")\n",
    "                except: pass\n",
    "                if len(except_day) > 2:\n",
    "                    day_append_lst.append(\"\")\n",
    "                else:\n",
    "                    day_append_lst.append(except_day)\n",
    "            else:\n",
    "                day_append_lst.append(except_day)\n",
    "\n",
    "    elif \"~\" in check_word:\n",
    "        only_day = check_word.split(\"~\")\n",
    "        day_append_lst = []\n",
    "        for except_day in only_day:\n",
    "            if len(except_day) > 2: # \"매일\"이 2글자이므로\n",
    "                try:\n",
    "                    remove_number_check = re.compile(\"\\d{2}:\\d{2}$\")\n",
    "                    remove_number = remove_number_check.findall(except_day)[0]\n",
    "                    except_day = except_day.replace(remove_number, \"\")\n",
    "                except: pass\n",
    "                if len(except_day) > 2:\n",
    "                    day_append_lst.append(\"\")\n",
    "                else:\n",
    "                    day_append_lst.append(except_day)\n",
    "            else:\n",
    "                day_append_lst.append(except_day)\n",
    "        df[\"영업일\"][length] = \",\".join(day_append_lst)\n",
    "\"\"\""
   ]
  },
  {
   "cell_type": "code",
   "execution_count": null,
   "metadata": {},
   "outputs": [],
   "source": []
  }
 ],
 "metadata": {
  "kernelspec": {
   "display_name": "Python 3",
   "language": "python",
   "name": "python3"
  },
  "language_info": {
   "codemirror_mode": {
    "name": "ipython",
    "version": 3
   },
   "file_extension": ".py",
   "mimetype": "text/x-python",
   "name": "python",
   "nbconvert_exporter": "python",
   "pygments_lexer": "ipython3",
   "version": "3.10.8 (main, Nov 24 2022, 08:08:27) [Clang 14.0.6 ]"
  },
  "orig_nbformat": 4,
  "vscode": {
   "interpreter": {
    "hash": "1484c60fc21e8b44054b80e719575bad7498efd5d396525e6a44287218f58e21"
   }
  }
 },
 "nbformat": 4,
 "nbformat_minor": 2
}
