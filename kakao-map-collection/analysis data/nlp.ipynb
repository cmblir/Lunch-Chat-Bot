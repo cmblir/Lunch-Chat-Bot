{
 "cells": [
  {
   "cell_type": "code",
   "execution_count": 55,
   "metadata": {},
   "outputs": [],
   "source": [
    "import pandas as pd\n",
    "import numpy as np\n",
    "from konlpy.tag import Okt"
   ]
  },
  {
   "cell_type": "code",
   "execution_count": 3,
   "metadata": {},
   "outputs": [],
   "source": [
    "df = pd.read_excel(\"collect data/강남구_finished.xlsx\")"
   ]
  },
  {
   "cell_type": "code",
   "execution_count": 41,
   "metadata": {},
   "outputs": [
    {
     "name": "stderr",
     "output_type": "stream",
     "text": [
      "/var/folders/5v/6byb3xz548v1xd0b83z24ys40000gn/T/ipykernel_4216/3473102629.py:2: FutureWarning: The default value of regex will change from True to False in a future version.\n",
      "  df[\"리뷰\"] = df[\"리뷰\"].str.replace(\"[^ㄱ-ㅎㅏ-ㅣ가-힣 ]\",\"\")\n"
     ]
    }
   ],
   "source": [
    "# 불용어 제거 (자음이나 모음만 들어가있는 이상한 말들 제거, 숫자 제거)\n",
    "df[\"리뷰\"] = df[\"리뷰\"].str.replace(\"[^ㄱ-ㅎㅏ-ㅣ가-힣 ]\",\"\")"
   ]
  },
  {
   "cell_type": "code",
   "execution_count": 42,
   "metadata": {},
   "outputs": [],
   "source": [
    "df[\"리뷰\"].replace('', np.nan, inplace=True)\n",
    "df[\"리뷰\"] = df[\"리뷰\"].dropna(how='any')"
   ]
  },
  {
   "cell_type": "code",
   "execution_count": 43,
   "metadata": {},
   "outputs": [
    {
     "data": {
      "text/plain": [
       "0                                                    만두 맛집\n",
       "1        진미평양 냉면 나의 평양냉면 맛집 탑 평양냉면 가게 하지만 본관이던 별관이던 너무 ...\n",
       "2        평냉 최고존엄입니다처음에는 순정의 맛을 즐기다가그다음 고춧가루를 조금 풀어보시면 미...\n",
       "3        어복쟁반 냉면 만두 시켜먹었는데 세가지 다 맛있어요ㅜㅜ 양도 너무 많아서 남은거 포...\n",
       "4        정말정말정맣 좋아하는 곳이에요멜로가 체질 나와서 알게된 곳인데 제일 좋아하는 평냉집...\n",
       "                               ...                        \n",
       "32279                                   음 이건 평양냉면이라 할 수 없엉\n",
       "32280                                                 굿입니다\n",
       "32281                                  평양냉면 원 돼지편육중 원  년 월\n",
       "32282                                                  NaN\n",
       "32283    평양냉면 맛있음식사 밥류 시키면 반찬도 잘 나옴알에 천원씩 하는 만두는 엄청 큼식사...\n",
       "Name: 리뷰, Length: 32284, dtype: object"
      ]
     },
     "execution_count": 43,
     "metadata": {},
     "output_type": "execute_result"
    }
   ],
   "source": [
    "df[\"리뷰\"]"
   ]
  },
  {
   "cell_type": "code",
   "execution_count": 44,
   "metadata": {},
   "outputs": [
    {
     "data": {
      "text/plain": [
       "맛있어요                                                                                                                                                                                                                                                                                                            289\n",
       "굿                                                                                                                                                                                                                                                                                                                40\n",
       "좋아요                                                                                                                                                                                                                                                                                                              39\n",
       "                                                                                                                                                                                                                                                                                                                 38\n",
       "                                                                                                                                                                                                                                                                                                                 36\n",
       "                                                                                                                                                                                                                                                                                                               ... \n",
       "컨셉 뚜렷한 사장님과 맛있는 등갈비                                                                                                                                                                                                                                                                                               1\n",
       "등갈비 최고에여사장님 친절하시고                                                                                                                                                                                                                                                                                                 1\n",
       "다신 안 올랍니다맛은 그냥저냥인데 웨이팅 분 기다리고 뭐 시키는지 미리 주문하라해서 등갈비 인 얘기했더니 더 안시키세요 그러길래 등갈비 인이 얼마나 되냐했더니 여자둘이서 목살하나 등갈비 인하나 먹는다네요 근데 말투가 장사하시기 싫으신 것 같네요 물어보는데 다른데 보고있고고기는 태우고바로 옆에서 다른 테이블 보고 있을때 불렀는데 대답은 한 것 같은데 다시 부르기 전까지 쳐다보지도 않네요 휴지는 달라고 했는데 다먹고 계산하고 나갈 때까지 휴지와 물은 받지도 못 했습니다고기먹는법설명은 참 친절하시던데 평소에도 그만큼만 하시면 참 좋겠네요      1\n",
       "둘이서 목살등갈비 먹었습니다 보채지 않고 기다리면 다 알아서 구워주십니다 물이나 휴지등은 직접 갖다쓰시는게 빨라요 유독 친절한 직원붙 계신데사장님이신건지 암튼 연신 허리를 숙여 고기를 정성껏 구워주십니다 힘드실텐데 맛있게 먹는법 농담도 건네시고요 결론적으로 저희는 맛있게 먹고나왔습니다 신속한 서비스 원하시면 가지마세요 다만 눈에 보이는 청결부족인 곳이 몇몇 보여서 별하나 줄입니다                                                                                             1\n",
       "평양냉면 맛있음식사 밥류 시키면 반찬도 잘 나옴알에 천원씩 하는 만두는 엄청 큼식사는 만원대고기는 엄청 비쌈                                                                                                                                                                                                                                                      1\n",
       "Name: 리뷰, Length: 24509, dtype: int64"
      ]
     },
     "execution_count": 44,
     "metadata": {},
     "output_type": "execute_result"
    }
   ],
   "source": [
    "df[\"리뷰\"].value_counts()"
   ]
  },
  {
   "cell_type": "code",
   "execution_count": 60,
   "metadata": {},
   "outputs": [],
   "source": [
    "df = df[df[\"리뷰\"].notnull()]"
   ]
  },
  {
   "cell_type": "code",
   "execution_count": 61,
   "metadata": {},
   "outputs": [],
   "source": [
    "reviews = df[\"리뷰\"]\n",
    "star = df[\"평점\"]"
   ]
  },
  {
   "cell_type": "code",
   "execution_count": 62,
   "metadata": {},
   "outputs": [
    {
     "data": {
      "text/plain": [
       "(25809, 25809)"
      ]
     },
     "execution_count": 62,
     "metadata": {},
     "output_type": "execute_result"
    }
   ],
   "source": [
    "len(reviews), len(star)"
   ]
  },
  {
   "cell_type": "code",
   "execution_count": 63,
   "metadata": {},
   "outputs": [],
   "source": [
    "from sklearn.model_selection import train_test_split\n",
    "train_x, test_x, train_y, test_y = train_test_split(reviews, star, test_size=0.2, random_state=42)"
   ]
  },
  {
   "cell_type": "code",
   "execution_count": 64,
   "metadata": {},
   "outputs": [
    {
     "data": {
      "text/plain": [
       "(20647, 20647, 5162, 5162)"
      ]
     },
     "execution_count": 64,
     "metadata": {},
     "output_type": "execute_result"
    }
   ],
   "source": [
    "len(train_x), len(train_y), len(test_x), len(test_y)"
   ]
  },
  {
   "cell_type": "code",
   "execution_count": 65,
   "metadata": {},
   "outputs": [],
   "source": [
    "okt = Okt()"
   ]
  },
  {
   "cell_type": "code",
   "execution_count": 66,
   "metadata": {},
   "outputs": [
    {
     "name": "stderr",
     "output_type": "stream",
     "text": [
      "/Users/cmblir/miniforge3/envs/lcb/lib/python3.10/site-packages/sklearn/feature_extraction/text.py:528: UserWarning: The parameter 'token_pattern' will not be used since 'tokenizer' is not None'\n",
      "  warnings.warn(\n"
     ]
    },
    {
     "name": "stdout",
     "output_type": "stream",
     "text": [
      "  (0, 31981)\t0.6576439451800637\n",
      "  (0, 23093)\t0.2736179876460674\n",
      "  (0, 17221)\t0.701881498690853\n",
      "  (1, 29983)\t0.23555202091190283\n",
      "  (1, 29971)\t0.1398448044135239\n",
      "  (1, 23574)\t0.23959125014791444\n",
      "  (1, 23297)\t0.054424020401518454\n",
      "  (1, 22328)\t0.15820224495302554\n",
      "  (1, 22282)\t0.06787639636240556\n",
      "  (1, 21829)\t0.18923375812413396\n",
      "  (1, 21828)\t0.18250689638071432\n",
      "  (1, 20830)\t0.18250689638071432\n",
      "  (1, 19198)\t0.1759766643199059\n",
      "  (1, 19193)\t0.13690992208356917\n",
      "  (1, 16477)\t0.20017972500192754\n",
      "  (1, 15880)\t0.20017972500192754\n",
      "  (1, 15017)\t0.24436864434028877\n",
      "  (1, 15005)\t0.11914068324716787\n",
      "  (1, 13955)\t0.21933126034416547\n",
      "  (1, 13931)\t0.10936662058635852\n",
      "  (1, 12309)\t0.16721514737466459\n",
      "  (1, 12282)\t0.11723029815849209\n",
      "  (1, 11246)\t0.15859628430443468\n",
      "  (1, 11007)\t0.23959125014791444\n",
      "  (1, 11005)\t0.13743575490805732\n",
      "  :\t:\n",
      "  (20646, 18762)\t0.108964923314392\n",
      "  (20646, 17629)\t0.17371063071525092\n",
      "  (20646, 17616)\t0.12220452406306859\n",
      "  (20646, 15670)\t0.20161801025251266\n",
      "  (20646, 15143)\t0.1656241825073241\n",
      "  (20646, 14872)\t0.1487166640666777\n",
      "  (20646, 14583)\t0.08082279791223126\n",
      "  (20646, 12952)\t0.14479545659590157\n",
      "  (20646, 12787)\t0.1274757001832729\n",
      "  (20646, 11619)\t0.17234797284026557\n",
      "  (20646, 11617)\t0.15464760021010182\n",
      "  (20646, 10593)\t0.051019176334026195\n",
      "  (20646, 9076)\t0.14705982466503967\n",
      "  (20646, 7341)\t0.04934246333347939\n",
      "  (20646, 6558)\t0.18025920121344763\n",
      "  (20646, 6556)\t0.12257603867300493\n",
      "  (20646, 6180)\t0.19690658656180937\n",
      "  (20646, 5384)\t0.20089549100685045\n",
      "  (20646, 3900)\t0.17673204316888236\n",
      "  (20646, 3899)\t0.16292512545885907\n",
      "  (20646, 1664)\t0.18698299154638912\n",
      "  (20646, 1663)\t0.15979140492707508\n",
      "  (20646, 691)\t0.1844961359716428\n",
      "  (20646, 687)\t0.1590756120091274\n",
      "  (20646, 122)\t0.09456065957080027\n"
     ]
    }
   ],
   "source": [
    "from sklearn.feature_extraction.text import TfidfVectorizer\n",
    "tfv = TfidfVectorizer(tokenizer=okt.morphs, ngram_range=(1,2), min_df=3, max_df=0.9)\n",
    "tfv.fit(train_x)\n",
    "tfv_train_x = tfv.transform(train_x)\n",
    "print(tfv_train_x)"
   ]
  },
  {
   "cell_type": "code",
   "execution_count": 72,
   "metadata": {},
   "outputs": [
    {
     "name": "stdout",
     "output_type": "stream",
     "text": [
      "Fitting 3 folds for each of 10 candidates, totalling 30 fits\n"
     ]
    },
    {
     "name": "stderr",
     "output_type": "stream",
     "text": [
      "/Users/cmblir/miniforge3/envs/lcb/lib/python3.10/site-packages/sklearn/linear_model/_logistic.py:458: ConvergenceWarning: lbfgs failed to converge (status=1):\n",
      "STOP: TOTAL NO. of ITERATIONS REACHED LIMIT.\n",
      "\n",
      "Increase the number of iterations (max_iter) or scale the data as shown in:\n",
      "    https://scikit-learn.org/stable/modules/preprocessing.html\n",
      "Please also refer to the documentation for alternative solver options:\n",
      "    https://scikit-learn.org/stable/modules/linear_model.html#logistic-regression\n",
      "  n_iter_i = _check_optimize_result(\n",
      "/Users/cmblir/miniforge3/envs/lcb/lib/python3.10/site-packages/sklearn/linear_model/_logistic.py:458: ConvergenceWarning: lbfgs failed to converge (status=1):\n",
      "STOP: TOTAL NO. of ITERATIONS REACHED LIMIT.\n",
      "\n",
      "Increase the number of iterations (max_iter) or scale the data as shown in:\n",
      "    https://scikit-learn.org/stable/modules/preprocessing.html\n",
      "Please also refer to the documentation for alternative solver options:\n",
      "    https://scikit-learn.org/stable/modules/linear_model.html#logistic-regression\n",
      "  n_iter_i = _check_optimize_result(\n",
      "/Users/cmblir/miniforge3/envs/lcb/lib/python3.10/site-packages/sklearn/linear_model/_logistic.py:458: ConvergenceWarning: lbfgs failed to converge (status=1):\n",
      "STOP: TOTAL NO. of ITERATIONS REACHED LIMIT.\n",
      "\n",
      "Increase the number of iterations (max_iter) or scale the data as shown in:\n",
      "    https://scikit-learn.org/stable/modules/preprocessing.html\n",
      "Please also refer to the documentation for alternative solver options:\n",
      "    https://scikit-learn.org/stable/modules/linear_model.html#logistic-regression\n",
      "  n_iter_i = _check_optimize_result(\n",
      "/Users/cmblir/miniforge3/envs/lcb/lib/python3.10/site-packages/sklearn/linear_model/_logistic.py:458: ConvergenceWarning: lbfgs failed to converge (status=1):\n",
      "STOP: TOTAL NO. of ITERATIONS REACHED LIMIT.\n",
      "\n",
      "Increase the number of iterations (max_iter) or scale the data as shown in:\n",
      "    https://scikit-learn.org/stable/modules/preprocessing.html\n",
      "Please also refer to the documentation for alternative solver options:\n",
      "    https://scikit-learn.org/stable/modules/linear_model.html#logistic-regression\n",
      "  n_iter_i = _check_optimize_result(\n",
      "/Users/cmblir/miniforge3/envs/lcb/lib/python3.10/site-packages/sklearn/linear_model/_logistic.py:458: ConvergenceWarning: lbfgs failed to converge (status=1):\n",
      "STOP: TOTAL NO. of ITERATIONS REACHED LIMIT.\n",
      "\n",
      "Increase the number of iterations (max_iter) or scale the data as shown in:\n",
      "    https://scikit-learn.org/stable/modules/preprocessing.html\n",
      "Please also refer to the documentation for alternative solver options:\n",
      "    https://scikit-learn.org/stable/modules/linear_model.html#logistic-regression\n",
      "  n_iter_i = _check_optimize_result(\n",
      "/Users/cmblir/miniforge3/envs/lcb/lib/python3.10/site-packages/sklearn/linear_model/_logistic.py:458: ConvergenceWarning: lbfgs failed to converge (status=1):\n",
      "STOP: TOTAL NO. of ITERATIONS REACHED LIMIT.\n",
      "\n",
      "Increase the number of iterations (max_iter) or scale the data as shown in:\n",
      "    https://scikit-learn.org/stable/modules/preprocessing.html\n",
      "Please also refer to the documentation for alternative solver options:\n",
      "    https://scikit-learn.org/stable/modules/linear_model.html#logistic-regression\n",
      "  n_iter_i = _check_optimize_result(\n",
      "/Users/cmblir/miniforge3/envs/lcb/lib/python3.10/site-packages/sklearn/linear_model/_logistic.py:458: ConvergenceWarning: lbfgs failed to converge (status=1):\n",
      "STOP: TOTAL NO. of ITERATIONS REACHED LIMIT.\n",
      "\n",
      "Increase the number of iterations (max_iter) or scale the data as shown in:\n",
      "    https://scikit-learn.org/stable/modules/preprocessing.html\n",
      "Please also refer to the documentation for alternative solver options:\n",
      "    https://scikit-learn.org/stable/modules/linear_model.html#logistic-regression\n",
      "  n_iter_i = _check_optimize_result(\n",
      "/Users/cmblir/miniforge3/envs/lcb/lib/python3.10/site-packages/sklearn/linear_model/_logistic.py:458: ConvergenceWarning: lbfgs failed to converge (status=1):\n",
      "STOP: TOTAL NO. of ITERATIONS REACHED LIMIT.\n",
      "\n",
      "Increase the number of iterations (max_iter) or scale the data as shown in:\n",
      "    https://scikit-learn.org/stable/modules/preprocessing.html\n",
      "Please also refer to the documentation for alternative solver options:\n",
      "    https://scikit-learn.org/stable/modules/linear_model.html#logistic-regression\n",
      "  n_iter_i = _check_optimize_result(\n",
      "/Users/cmblir/miniforge3/envs/lcb/lib/python3.10/site-packages/sklearn/linear_model/_logistic.py:458: ConvergenceWarning: lbfgs failed to converge (status=1):\n",
      "STOP: TOTAL NO. of ITERATIONS REACHED LIMIT.\n",
      "\n",
      "Increase the number of iterations (max_iter) or scale the data as shown in:\n",
      "    https://scikit-learn.org/stable/modules/preprocessing.html\n",
      "Please also refer to the documentation for alternative solver options:\n",
      "    https://scikit-learn.org/stable/modules/linear_model.html#logistic-regression\n",
      "  n_iter_i = _check_optimize_result(\n"
     ]
    },
    {
     "name": "stdout",
     "output_type": "stream",
     "text": [
      "{'C': 5, 'max_iter': 100} 0.6082241408688522\n"
     ]
    },
    {
     "name": "stderr",
     "output_type": "stream",
     "text": [
      "/Users/cmblir/miniforge3/envs/lcb/lib/python3.10/site-packages/sklearn/linear_model/_logistic.py:458: ConvergenceWarning: lbfgs failed to converge (status=1):\n",
      "STOP: TOTAL NO. of ITERATIONS REACHED LIMIT.\n",
      "\n",
      "Increase the number of iterations (max_iter) or scale the data as shown in:\n",
      "    https://scikit-learn.org/stable/modules/preprocessing.html\n",
      "Please also refer to the documentation for alternative solver options:\n",
      "    https://scikit-learn.org/stable/modules/linear_model.html#logistic-regression\n",
      "  n_iter_i = _check_optimize_result(\n"
     ]
    }
   ],
   "source": [
    "from sklearn.linear_model import LogisticRegression # 이진 분류 알고리즘\n",
    "from sklearn.model_selection import GridSearchCV # 하이퍼 파라미터 최적화\n",
    "\n",
    "clf = LogisticRegression(random_state=42)\n",
    "params = {'C': [0.01, 0.1, 1, 5, 10], 'max_iter' : [100, 500]}\n",
    "grid_cv = GridSearchCV(clf, param_grid=params, cv=3, scoring='accuracy', verbose=1)\n",
    "grid_cv.fit(tfv_train_x, train_y)\n",
    "\n",
    "# 최적의 평가 파라미터는 grid_cv.best_estimator_에 저장됨\n",
    "print(grid_cv.best_params_, grid_cv.best_score_)# 가장 적합한 파라메터, 최고 정확도 확인"
   ]
  },
  {
   "cell_type": "code",
   "execution_count": 73,
   "metadata": {},
   "outputs": [
    {
     "name": "stdout",
     "output_type": "stream",
     "text": [
      "감성 분류 모델의 정확도 :  0.609\n"
     ]
    }
   ],
   "source": [
    "tfv_test_x = tfv.transform(test_x)\n",
    "# test_predict = grid_cv.best_estimator_.score(tfv_test_x,test_y)\n",
    "test_predict = grid_cv.best_estimator_.predict(tfv_test_x)\n",
    "from sklearn.metrics import accuracy_score\n",
    "print('감성 분류 모델의 정확도 : ',round(accuracy_score(test_y, test_predict), 3))"
   ]
  },
  {
   "cell_type": "code",
   "execution_count": 75,
   "metadata": {},
   "outputs": [],
   "source": [
    "import re"
   ]
  },
  {
   "cell_type": "code",
   "execution_count": 80,
   "metadata": {},
   "outputs": [
    {
     "name": "stdout",
     "output_type": "stream",
     "text": [
      "예측 결과: ->> 긍정 감성\n"
     ]
    }
   ],
   "source": [
    "input_text = '시발'\n",
    "#입력 텍스트에 대한 전처리 수행\n",
    "input_text = re.compile(r'[ㄱ-ㅣ가-힣]+').findall(input_text)\n",
    "input_text = [\" \".join(input_text)]\n",
    "# 입력 텍스트의 피처 벡터화\n",
    "st_tfidf = tfv.transform(input_text)\n",
    "\n",
    "# 최적 감성 분석 모델에 적용하여 감성 분석 평가\n",
    "st_predict = grid_cv.best_estimator_.predict(st_tfidf)\n",
    "\n",
    "#예측 결과 출력\n",
    "if(st_predict == 0):\n",
    "    print('예측 결과: ->> 부정 감성')\n",
    "else :\n",
    "    print('예측 결과: ->> 긍정 감성')"
   ]
  },
  {
   "cell_type": "code",
   "execution_count": null,
   "metadata": {},
   "outputs": [],
   "source": []
  }
 ],
 "metadata": {
  "kernelspec": {
   "display_name": "Python 3",
   "language": "python",
   "name": "python3"
  },
  "language_info": {
   "codemirror_mode": {
    "name": "ipython",
    "version": 3
   },
   "file_extension": ".py",
   "mimetype": "text/x-python",
   "name": "python",
   "nbconvert_exporter": "python",
   "pygments_lexer": "ipython3",
   "version": "3.10.8"
  },
  "orig_nbformat": 4,
  "vscode": {
   "interpreter": {
    "hash": "1484c60fc21e8b44054b80e719575bad7498efd5d396525e6a44287218f58e21"
   }
  }
 },
 "nbformat": 4,
 "nbformat_minor": 2
}
